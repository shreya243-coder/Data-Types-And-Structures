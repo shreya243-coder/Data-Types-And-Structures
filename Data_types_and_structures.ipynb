{
  "nbformat": 4,
  "nbformat_minor": 0,
  "metadata": {
    "colab": {
      "provenance": []
    },
    "kernelspec": {
      "name": "python3",
      "display_name": "Python 3"
    },
    "language_info": {
      "name": "python"
    }
  },
  "cells": [
    {
      "cell_type": "markdown",
      "source": [
        "#Data Types & Structures\n"
      ],
      "metadata": {
        "id": "RUUv6awrziHj"
      }
    },
    {
      "cell_type": "markdown",
      "source": [
        "1. What are data structures, and why are they important?\n",
        "-> A data structure is a way of organizing and storing data so that it can be accessed and used efficiently. It defines how data is arranged, managed, and manipulated in a computer.\n",
        "\n",
        "**Why are Data Structures Important?**\n",
        "\n",
        "Efficient Data Handling – Helps in storing, retrieving, and managing data effectively.\n",
        "\n",
        "Better Performance – Optimizes memory and speed for operations like searching, sorting, and modifying data.\n",
        "\n",
        "Real-World Applications – Used in databases, operating systems, AI, and more.\n",
        "\n",
        "**Types of Data Structures:**\n",
        "Linear – Data is arranged in a sequence (e.g., Array, Linked List, Stack, Queue).\n",
        "\n",
        "Non-Linear – Data is arranged in a hierarchy (e.g., Trees, Graphs)."
      ],
      "metadata": {
        "id": "v5l6zRVjzx65"
      }
    },
    {
      "cell_type": "markdown",
      "source": [
        "2.  Explain the difference between mutable and immutable data types with examples?\n",
        "->\n",
        "In Python, **mutable** and **immutable** data types refer to whether an object's value can be changed after it is created.\n",
        "\n",
        "| Feature            | Mutable Data Types | Immutable Data Types |\n",
        "|--------------------|------------------|------------------|\n",
        "| **Definition**     | Can be modified after creation. | Cannot be modified after creation. |\n",
        "| **Examples**       | `list`, `dict`, `set`, `bytearray` | `int`, `float`, `str`, `tuple`, `bool`, `frozenset` |\n",
        "| **Memory Usage**   | May change in place, memory address remains same. | New object is created if modified. |\n",
        "| **Operations**     | Supports item modification, deletion, addition. | Any operation that seems to modify creates a new object. |\n",
        "\n",
        "---\n",
        "\n",
        "### Examples:\n",
        "\n",
        "#### 1️⃣ **Mutable Data Type - List**\n",
        "```python\n",
        "my_list = [1, 2, 3]\n",
        "print(id(my_list))  # Memory address before modification\n",
        "\n",
        "my_list.append(4)   # Modifying the list\n",
        "print(my_list)      # Output: [1, 2, 3, 4]\n",
        "print(id(my_list))  # Memory address remains the same\n",
        "```\n",
        "- The list is modified in place, so the memory address remains the same.\n",
        "\n",
        "#### 2️⃣ **Immutable Data Type - String**\n",
        "```python\n",
        "my_str = \"Hello\"\n",
        "print(id(my_str))  # Memory address before modification\n",
        "\n",
        "my_str += \" World\"  # Trying to modify the string\n",
        "print(my_str)      # Output: \"Hello World\"\n",
        "print(id(my_str))  # Memory address changes\n",
        "```\n",
        "- Instead of modifying the original string, a new string is created in memory.\n",
        "\n"
      ],
      "metadata": {
        "id": "YKu3_THGb7dh"
      }
    },
    {
      "cell_type": "markdown",
      "source": [
        "3. What are the main differences between lists and tuples in Python?\n",
        "->  **Main Differences Between Lists and Tuples in Python**\n",
        "\n",
        "| Feature          | **List (`list`)** | **Tuple (`tuple`)** |\n",
        "|-----------------|------------------|------------------|\n",
        "| **Mutability**  | ✅ Mutable (can be changed) | ❌ Immutable (cannot be changed) |\n",
        "| **Syntax**      | Defined using `[]` (square brackets) | Defined using `()` (parentheses) |\n",
        "| **Performance** | Slower due to mutability | Faster because it's immutable |\n",
        "| **Memory Usage** | Uses more memory | Uses less memory |\n",
        "| **Methods Available** | More methods like `append()`, `remove()`, `sort()` | Fewer methods, mostly `count()` and `index()` |\n",
        "| **Use Cases**   | Used for dynamic data (e.g., lists of users, tasks) | Used for fixed data (e.g., coordinates, config settings) |\n",
        "\n",
        "---\n",
        "\n",
        "### **Example: List (Mutable)**\n",
        "```python\n",
        "my_list = [1, 2, 3]\n",
        "my_list.append(4)  # Modifying the list\n",
        "print(my_list)  # Output: [1, 2, 3, 4]\n",
        "```\n",
        "- Lists can be changed after creation.\n",
        "\n",
        "---\n",
        "\n",
        "### **Example: Tuple (Immutable)**\n",
        "```python\n",
        "my_tuple = (1, 2, 3)\n",
        "my_tuple[0] = 10  # ❌ This will cause an error\n",
        "```\n",
        "- Tuples cannot be changed once created.\n",
        "\n",
        "\n",
        "\n"
      ],
      "metadata": {
        "id": "7ODr2Ggq9Fiw"
      }
    },
    {
      "cell_type": "markdown",
      "source": [
        "4.  Describe how dictionaries store data.\n",
        "-> i.Dictionaries store data in key-value pairs using a hash table for fast access.\n",
        "\n",
        "ii.Keys are immutable (e.g., str, int, tuple), but values can be any type.\n",
        "\n",
        "iii.Python uses hashing to quickly find where a key-value pair is stored in memory.\n",
        "\n",
        "iv.Operations like adding, searching, and deleting are very fast (O(1) on average).\n",
        "\n",
        "v.If two keys have the same hash (collision), Python finds another spot for storage.\n"
      ],
      "metadata": {
        "id": "1sKsN1NU_fHO"
      }
    },
    {
      "cell_type": "markdown",
      "source": [
        "5. Why might you use a set instead of a list in Python?\n",
        "->\n",
        "✅ **Unique values only** (No duplicates).  \n",
        "✅ **Faster searches** (`O(1)`) vs. list (`O(n)`).  \n",
        "✅ **Supports set operations** (union, intersection).  \n",
        "\n",
        "#### **Example: Removing Duplicates Quickly**\n",
        "```python\n",
        "numbers = [1, 2, 2, 3, 4, 4, 5]\n",
        "unique_numbers = set(numbers)  # {1, 2, 3, 4, 5}\n",
        "```\n",
        "\n",
        "### **When to Use a List Instead?**  \n",
        "🔹 **Order matters**  \n",
        "🔹 **Duplicates are needed**  \n",
        "\n"
      ],
      "metadata": {
        "id": "OhfaFoq0D74q"
      }
    },
    {
      "cell_type": "markdown",
      "source": [
        "6. What is a string in Python, and how is it different from a list?\n",
        "->  \n",
        "A **string (`str`)** in Python is a **sequence of characters** enclosed in **quotes** (`\"\"` or `''`).  \n",
        "\n",
        "#### **Example:**\n",
        "```python\n",
        "my_str = \"Hello, World!\"\n",
        "```\n",
        "\n",
        "---\n",
        "\n",
        "### **Difference Between String and List**  \n",
        "\n",
        "| Feature       | **String (`str`)**        | **List (`list`)**         |\n",
        "|--------------|-------------------------|-------------------------|\n",
        "| **Type**     | Sequence of characters  | Sequence of elements (any type) |\n",
        "| **Mutable?** | ❌ Immutable (cannot change individual characters) | ✅ Mutable (can modify elements) |\n",
        "| **Indexing?** | ✅ Supports indexing (`my_str[0]`) | ✅ Supports indexing (`my_list[0]`) |\n",
        "| **Operations** | Can be concatenated (`+`), repeated (`*`) | Can append, remove, or modify elements |\n",
        "| **Storage**   | Uses less memory | Uses more memory |\n",
        "\n",
        "---\n",
        "\n",
        "### **Example Differences**\n",
        "\n",
        "✅ **String (Immutable)**  \n",
        "```python\n",
        "s = \"hello\"\n",
        "s[0] = \"H\"  # ❌ Error! Strings can't be changed\n",
        "```\n",
        "\n",
        "✅ **List (Mutable)**  \n",
        "```python\n",
        "l = [\"h\", \"e\", \"l\", \"l\", \"o\"]\n",
        "l[0] = \"H\"  # ✅ Works! Lists can be modified\n",
        "print(l)  # ['H', 'e', 'l', 'l', 'o']\n",
        "```\n"
      ],
      "metadata": {
        "id": "yDfoFZ5RF7lz"
      }
    },
    {
      "cell_type": "markdown",
      "source": [
        "7. How do tuples ensure data integrity in Python?\n",
        "-> Tuples are immutable to ensure that their contents remain constant throughout their lifecycle, guaranteeing data integrity and reliability. This immutability allows tuples to be used as keys in dictionaries and elements in sets, as they can be hashed.\n",
        "\n",
        "i. Prevents accidental modification\n",
        "\n",
        "ii.Safer in multi-threaded programs\n",
        "\n",
        "iii. Ensures data consistency\n",
        "\n",
        "iv. Used as dictionary"
      ],
      "metadata": {
        "id": "fDA6NduhHIXA"
      }
    },
    {
      "cell_type": "markdown",
      "source": [
        "8. What is a hash table, and how does it relate to dictionaries in Python?\n",
        "->  \n",
        "A **hash table** is a **data structure** that stores key-value pairs using a **hash function** to map keys to specific memory locations. This allows **fast access, insertion, and deletion** of data.\n",
        "\n",
        "---\n",
        "\n",
        " **How Hash Tables Relate to Python Dictionaries**  \n",
        "In Python, **dictionaries (`dict`)** use a **hash table** internally to store key-value pairs efficiently.\n",
        "\n",
        " **How It Works:**\n",
        "1️⃣ **Hashing the Key** → Python applies a **hash function** to the key to generate a unique number (`hash value`).  \n",
        "2️⃣ **Finding Storage Location** → The hash value determines where the key-value pair is stored in memory.  \n",
        "3️⃣ **Fast Lookups** → The key's hash allows quick retrieval of values (O(1) time complexity).  \n",
        "4️⃣ **Handling Collisions** → If two keys produce the same hash (**collision**), Python finds an alternative storage location using techniques like **open addressing**.\n",
        "\n",
        "---\n",
        "\n",
        "### **Example: Python Dictionary Using a Hash Table**\n",
        "```python\n",
        "my_dict = {\"name\": \"Alice\", \"age\": 25}\n",
        "\n",
        "# Python hashes the keys internally\n",
        "print(hash(\"name\"))  # Outputs a unique hash value\n",
        "\n",
        "# Fast key lookup using hashing\n",
        "print(my_dict[\"name\"])  # Output: Alice\n",
        "```\n"
      ],
      "metadata": {
        "id": "h29Zfw6IIWBn"
      }
    },
    {
      "cell_type": "markdown",
      "source": [
        "9. Can lists contain different data types in Python?\n",
        "-> **Yes!** In Python, a **list** can store **multiple data types** (integers, strings, floats, booleans, even other lists or objects).  \n",
        "\n",
        "---\n",
        "\n",
        "### **Example: List with Different Data Types**\n",
        "```python\n",
        "my_list = [10, \"Hello\", 3.14, True, [1, 2, 3]]\n",
        "\n",
        "print(my_list[0])  # Output: 10 (Integer)\n",
        "print(my_list[1])  # Output: \"Hello\" (String)\n",
        "print(my_list[2])  # Output: 3.14 (Float)\n",
        "print(my_list[3])  # Output: True (Boolean)\n",
        "print(my_list[4])  # Output: [1, 2, 3] (Nested List)\n",
        "```\n"
      ],
      "metadata": {
        "id": "5OE5-4V_uvWI"
      }
    },
    {
      "cell_type": "markdown",
      "source": [
        "10. Explain why strings are immutable in Python.\n",
        "->\n",
        "✅ **Memory Efficiency** – Python reuses strings to save memory.  \n",
        "✅ **Hashability** – Immutable strings can be used as dictionary keys.  \n",
        "✅ **Thread Safety** – No accidental changes in multi-threaded programs.  \n",
        "✅ **Prevents Bugs** – Ensures data integrity by avoiding unintended modifications.  \n",
        "\n",
        "#### **Example (Why Strings Can’t Change)**\n",
        "```python\n",
        "s = \"hello\"\n",
        "s[0] = \"H\"  # ❌ Error! Strings are immutable.\n",
        "```\n"
      ],
      "metadata": {
        "id": "W-NfrV6-v68l"
      }
    },
    {
      "cell_type": "markdown",
      "source": [
        "11. What advantages do dictionaries offer over lists for certain tasks?\n",
        "-> Dictionaries are better than lists for tasks that require frequent lookups or searches, like storing data that can be identified by name or item. Dictionaries are also more flexible and memory efficient than lists.\n",
        "\n",
        "Advantages of dictionaries:\n",
        "\n",
        "Fast lookups-\n",
        "Dictionaries use a hash table to store key-value pairs, which makes them ideal for tasks that require frequent lookups or searches.\n",
        "\n",
        "Flexible-\n",
        "Dictionaries can store any type of data as both the key and the value.\n",
        "\n",
        "Memory efficient-\n",
        "Dictionaries only store the key-value pairs you need, so they can store large amounts of data without taking up too much memory.\n",
        "\n",
        "Easy to use-\n",
        "Dictionaries are easy to use and manipulate in Python, with a wide range of built-in functions and methods."
      ],
      "metadata": {
        "id": "DKiiTe_WwWjc"
      }
    },
    {
      "cell_type": "markdown",
      "source": [
        "12. Describe a scenario where using a tuple would be preferable over a list.\n",
        "->\n",
        "📌 **Scenario: Storing Coordinates (Latitude, Longitude)**  \n",
        "Tuples are ideal for **fixed** data that should **not change**, such as **geographical coordinates**.\n",
        "\n",
        "✅ **Why Use a Tuple?**  \n",
        "- **Immutability** ensures the coordinates remain unchanged.  \n",
        "- **Faster access** than lists because tuples use less memory.  \n",
        "- **Can be used as dictionary keys** (tuples are hashable).  \n",
        "\n",
        "#### **Example: Storing GPS Coordinates**  \n",
        "```python\n",
        "location = (22.5726, 88.3639)  # (Latitude, Longitude for Kolkata)\n",
        "print(location[0])  # Output: 22.5726\n",
        "print(location[1])  # Output: 88.3639\n",
        "```\n",
        "\n",
        "### **Other Use Cases for Tuples**\n",
        "✅ **Storing constants** (e.g., Days of the week: `(\"Mon\", \"Tue\", \"Wed\")`).  \n",
        "✅ **Returning multiple values from a function** (`return (x, y)`).  \n",
        "✅ **Using as dictionary keys** (`my_dict[(10, 20)] = \"Point A\"`).  \n"
      ],
      "metadata": {
        "id": "0KFSUf_WyRAw"
      }
    },
    {
      "cell_type": "markdown",
      "source": [
        "13.  How do sets handle duplicate values in Python?\n",
        "-> In Python, **sets automatically remove duplicate values**. When you add duplicate elements to a set, it keeps only one unique occurrence of each value.\n",
        "\n",
        "Example:\n",
        "```python\n",
        "my_set = {1, 2, 3, 3, 4, 4, 5}\n",
        "print(my_set)  # Output: {1, 2, 3, 4, 5}\n",
        "```\n",
        "Here, even though `3` and `4` were added multiple times, the set stores them only once.\n",
        "\n",
        " Why?->\n",
        "Sets are **unordered collections of unique elements**. They are implemented using **hash tables**, which prevent duplicate entries.\n"
      ],
      "metadata": {
        "id": "WK9GjpYAz_Vx"
      }
    },
    {
      "cell_type": "markdown",
      "source": [
        "14. How does the “in” keyword work differently for lists and dictionaries?\n",
        "-> The **`in`** keyword is used to check for the presence of an element in a collection like lists and dictionaries, but it works differently for both.\n",
        "\n",
        " **i. `in` with Lists**\n",
        "- It checks whether a value **exists as an element** in the list.\n",
        "- It **scans each element one by one** (linear search, O(n) time complexity).\n",
        "\n",
        "**Example:**\n",
        "```python\n",
        "my_list = [10, 20, 30, 40]\n",
        "print(20 in my_list)  # Output: True\n",
        "print(50 in my_list)  # Output: False\n",
        "```\n",
        "\n",
        " **ii. `in` with Dictionaries**\n",
        "- It checks **only for keys**, **not values**.\n",
        "- It is **much faster** than checking in a list because dictionaries use a **hash table** (average O(1) time complexity).\n",
        "\n",
        "**Example:**\n",
        "```python\n",
        "my_dict = {1: 'apple', 2: 'banana', 3: 'cherry'}\n",
        "print(2 in my_dict)     # Output: True  (Checks for key)\n",
        "print('banana' in my_dict)  # Output: False (Does not check values)\n",
        "```\n"
      ],
      "metadata": {
        "id": "i9YtSc9IMiwA"
      }
    },
    {
      "cell_type": "markdown",
      "source": [
        "15. Can you modify the elements of a tuple? Explain why or why not.\n",
        "-> No, you **cannot** modify the elements of a tuple because **tuples are immutable** in Python.  \n",
        "\n",
        " **Why are tuples immutable?**\n",
        "1. **Memory Efficiency**: Tuples use less memory because they do not allow modifications.\n",
        "2. **Hashability**: Since tuples don’t change, they can be used as **keys in dictionaries**.\n",
        "3. **Data Integrity**: Prevents accidental changes in important data.\n",
        "\n",
        " **Example:**\n",
        "```python\n",
        "my_tuple = (1, 2, 3)\n",
        "my_tuple[0] = 10  # ❌ This will cause an error\n",
        "```\n",
        "**Error:**\n",
        "```\n",
        "TypeError: 'tuple' object does not support item assignment\n",
        "```\n",
        "\n",
        " **Can you modify a tuple indirectly?**\n",
        "Yes! If a tuple contains **mutable objects** (like lists), you can change those objects.\n",
        "\n",
        "```python\n",
        "my_tuple = (1, [2, 3], 4)\n",
        "my_tuple[1][0] = 99  # ✅ Allowed\n",
        "print(my_tuple)  # Output: (1, [99, 3], 4)\n",
        "```"
      ],
      "metadata": {
        "id": "A_IP6B-WNJ7m"
      }
    },
    {
      "cell_type": "markdown",
      "source": [
        "16. What is a nested dictionary, and give an example of its use case?\n",
        "-> **What is a Nested Dictionary?**  \n",
        "A **nested dictionary** is a dictionary where the values can be **other dictionaries** instead of simple data types like integers or strings.  \n",
        "\n",
        " **Example:**\n",
        "```python\n",
        "students = {\n",
        "    \"student1\": {\"name\": \"Rahul\", \"age\": 20, \"marks\": 85},\n",
        "    \"student2\": {\"name\": \"Priya\", \"age\": 22, \"marks\": 90},\n",
        "    \"student3\": {\"name\": \"Amit\", \"age\": 21, \"marks\": 78}\n",
        "}\n",
        "\n",
        "print(students[\"student1\"][\"name\"])  # Output: Rahul\n",
        "print(students[\"student2\"][\"marks\"])  # Output: 90\n",
        "```\n",
        "Here, `students` is a dictionary where each **key (\"student1\", \"student2\", etc.)** stores another dictionary containing details.\n",
        "\n",
        "\n",
        " **Use Case of Nested Dictionary**\n",
        "🔹 **Storing structured data** (e.g., student records, employee data, or inventory).  \n",
        "🔹 **Representing JSON-like data** in Python.  \n",
        "🔹 **Grouping related information** in a more organized way.  \n",
        "\n",
        "**Example Use Case: Hospital Patient Records**\n",
        "```python\n",
        "hospital_records = {\n",
        "    \"patient1\": {\"name\": \"Arun\", \"age\": 45, \"disease\": \"Diabetes\"},\n",
        "    \"patient2\": {\"name\": \"Sita\", \"age\": 30, \"disease\": \"Flu\"},\n",
        "}\n",
        "\n",
        "print(hospital_records[\"patient1\"][\"disease\"])  # Output: Diabetes\n",
        "```"
      ],
      "metadata": {
        "id": "vaAlGJzBNvg8"
      }
    },
    {
      "cell_type": "markdown",
      "source": [
        "17.  Describe the time complexity of accessing elements in a dictionary.\n",
        "->  **Time Complexity of Accessing Elements in a Dictionary**  \n",
        "\n",
        "In Python, **dictionaries use a hash table** for storing key-value pairs, which makes element access **very fast** on average.\n",
        "\n",
        " **1. Average Case (O(1)) – Constant Time**  \n",
        "- When accessing an element by key:  \n",
        "  ```python\n",
        "  my_dict = {\"a\": 1, \"b\": 2, \"c\": 3}\n",
        "  print(my_dict[\"b\"])  # Output: 2\n",
        "  ```\n",
        "- The dictionary **directly finds the key using hashing**, so access time is **O(1)**.\n",
        "\n",
        "**2. Worst Case (O(n)) – Linear Time**  \n",
        "- If **hash collisions** occur (when multiple keys hash to the same value), Python resolves them using a linked list or another method.\n",
        "- In this case, searching for a key **may require scanning multiple elements**, leading to **O(n) complexity**.\n",
        "\n",
        " **Comparison with Lists**\n",
        "\n",
        "| Operation      | Dictionary (Average) | Dictionary (Worst) | List |\n",
        "|---------------|---------------------|--------------------|------|\n",
        "| Lookup by Key | O(1)                | O(n)               | O(n) |\n",
        "| Insertion     | O(1)                | O(n)               | O(n) |\n",
        "| Deletion      | O(1)                | O(n)               | O(n) |\n"
      ],
      "metadata": {
        "id": "pNb1PiB3O_Hx"
      }
    },
    {
      "cell_type": "markdown",
      "source": [
        "18. In what situations are lists preferred over dictionaries?\n",
        "-> ### **When to Use Lists Over Dictionaries?**  \n",
        "\n",
        "✅ **Use Lists When:**  \n",
        "1. **Order Matters** (e.g., patient queue).  \n",
        "2. **Index-Based Access is Needed** (e.g., hospital bed allocation).  \n",
        "3. **Memory Efficiency is Important** (lists use less memory).  \n",
        "4. **Sorting & Slicing are Required** (e.g., sorting patient names).  \n",
        "5. **Storing Simple Data** (e.g., medicine names, temperature readings).  \n",
        "\n",
        "✅ **Use Dictionaries When:**  \n",
        "- You need **key-value pair storage** for **fast lookups** (e.g., patient records, inventory management).  \n"
      ],
      "metadata": {
        "id": "HdFO08QWPZLx"
      }
    },
    {
      "cell_type": "markdown",
      "source": [
        "19. Why are dictionaries considered unordered, and how does that affect data retrieval?\n",
        "->  **Why Are Dictionaries Considered Unordered?**  \n",
        "In Python, **dictionaries were unordered before Python 3.7** because they used a **hash table** to store key-value pairs, meaning the insertion order wasn’t maintained.\n",
        "\n",
        "However, **since Python 3.7**, dictionaries **preserve insertion order**, but they are still considered **unordered in terms of indexing** because:  \n",
        "1. **No Fixed Indexing:** Unlike lists, you **cannot access elements using an index** like `dict[0]`.  \n",
        "2. **Internal Hashing:** Keys are **stored based on their hash values**, not sequentially.  \n",
        "\n",
        "\n",
        " **How Does This Affect Data Retrieval?**\n",
        "🔹 **No Sequential Access:** You cannot access elements using an index like a list.  \n",
        "🔹 **Fast Lookups (O(1) time):** Since dictionaries use hashing, retrieving a value by key is much faster than searching in a list.  \n",
        "🔹 **Iterating Order (Python 3.7+):** Keys are returned in the order they were inserted.\n",
        "\n",
        " **Example:**\n",
        "```python\n",
        "my_dict = {\"apple\": 10, \"banana\": 20, \"cherry\": 30}\n",
        "print(my_dict[\"banana\"])  # ✅ Fast lookup (O(1))\n",
        "print(my_dict[1])  # ❌ Error! No index-based access\n",
        "```\n"
      ],
      "metadata": {
        "id": "2mqzKDTOPvve"
      }
    },
    {
      "cell_type": "markdown",
      "source": [
        "20. Explain the difference between a list and a dictionary in terms of data retrieval.\n",
        "-> **Difference Between List and Dictionary in Terms of Data Retrieval**  \n",
        "\n",
        "| Feature       | **List** 📝 | **Dictionary** 📖 |\n",
        "|--------------|------------|------------------|\n",
        "| **Access Method** | By **index** (`list[0]`) | By **key** (`dict[\"key\"]`) |\n",
        "| **Search Time Complexity** | **O(n)** (Linear search for unknown values) | **O(1)** (Constant time lookup using hashing) |\n",
        "| **Ordered?** | ✅ Yes (Maintains order) | ✅ Python 3.7+ maintains order, but no index-based access |\n",
        "| **Best For** | Sequential data (e.g., list of patients) | Key-value storage (e.g., patient records with details) |\n",
        "| **Flexibility** | Stores single values | Stores values with unique keys |\n",
        "\n",
        " **Example: Retrieving Data**\n",
        "```python\n",
        "# List (Index-based retrieval)\n",
        "patients = [\"Rahul\", \"Priya\", \"Amit\"]\n",
        "print(patients[1])  # Output: Priya\n",
        "\n",
        "# Dictionary (Key-based retrieval)\n",
        "patient_records = {\"Rahul\": 25, \"Priya\": 30, \"Amit\": 28}\n",
        "print(patient_records[\"Priya\"])  # Output: 30\n",
        "```\n",
        "\n",
        "✅ **Lists are better for sequential access,** while  \n",
        "✅ **Dictionaries are better for quick lookups using keys.**  \n"
      ],
      "metadata": {
        "id": "1ulUH742QJji"
      }
    },
    {
      "cell_type": "markdown",
      "source": [
        "# Practical Questions:"
      ],
      "metadata": {
        "id": "VOB6FOgPQyA6"
      }
    },
    {
      "cell_type": "markdown",
      "source": [
        "1. Write a code to create a string with your name and print it."
      ],
      "metadata": {
        "id": "lyA2ZSfFRjk6"
      }
    },
    {
      "cell_type": "code",
      "source": [
        "my_name = \"Your Name\"  # Replace with your actual name\n",
        "print(my_name)\n"
      ],
      "metadata": {
        "colab": {
          "base_uri": "https://localhost:8080/"
        },
        "id": "WYRZdCQvQ3iZ",
        "outputId": "3502b4e3-678e-4b4e-c11d-85706e81339f"
      },
      "execution_count": 2,
      "outputs": [
        {
          "output_type": "stream",
          "name": "stdout",
          "text": [
            "Your Name\n"
          ]
        }
      ]
    },
    {
      "cell_type": "markdown",
      "source": [
        "2. Write a code to find the length of the string \"Hello World\"."
      ],
      "metadata": {
        "id": "0Xet9SISRtru"
      }
    },
    {
      "cell_type": "code",
      "source": [
        "my_string = \"Hello World\"\n",
        "length = len(my_string)\n",
        "print(\"Length of the string:\", length)"
      ],
      "metadata": {
        "colab": {
          "base_uri": "https://localhost:8080/"
        },
        "id": "LxxZe0aZR3tT",
        "outputId": "69c5217c-f8cb-4e04-99a4-4f2f3b8fc2d5"
      },
      "execution_count": 3,
      "outputs": [
        {
          "output_type": "stream",
          "name": "stdout",
          "text": [
            "Length of the string: 11\n"
          ]
        }
      ]
    },
    {
      "cell_type": "markdown",
      "source": [
        "3.  Write a code to slice the first 3 characters from the string \"Python Programming\"."
      ],
      "metadata": {
        "id": "CRDiSvS-R-io"
      }
    },
    {
      "cell_type": "code",
      "source": [
        "my_string = \"Python Programming\"\n",
        "sliced_string = my_string[:3]  # Extracts characters from index 0 to 2\n",
        "print(sliced_string)"
      ],
      "metadata": {
        "colab": {
          "base_uri": "https://localhost:8080/"
        },
        "id": "iFykdmufSLUH",
        "outputId": "be04753c-a9f9-42bd-e896-7bcb9cfe2720"
      },
      "execution_count": 4,
      "outputs": [
        {
          "output_type": "stream",
          "name": "stdout",
          "text": [
            "Pyt\n"
          ]
        }
      ]
    },
    {
      "cell_type": "markdown",
      "source": [
        "4. Write a code to convert the string \"hello\" to uppercase."
      ],
      "metadata": {
        "id": "YsXQN9IbST9c"
      }
    },
    {
      "cell_type": "code",
      "source": [
        "my_string = \"hello\"\n",
        "uppercase_string = my_string.upper()\n",
        "print(uppercase_string)"
      ],
      "metadata": {
        "colab": {
          "base_uri": "https://localhost:8080/"
        },
        "id": "b5HGXIc0SPzG",
        "outputId": "b8ffdd12-f88c-47da-dfc5-26d8e5ab59c0"
      },
      "execution_count": 5,
      "outputs": [
        {
          "output_type": "stream",
          "name": "stdout",
          "text": [
            "HELLO\n"
          ]
        }
      ]
    },
    {
      "cell_type": "markdown",
      "source": [
        "5. Write a code to replace the word \"apple\" with \"orange\" in the string \"I like apple\"."
      ],
      "metadata": {
        "id": "X97ardBcSgSW"
      }
    },
    {
      "cell_type": "code",
      "source": [
        "my_string = \"I like apple\"\n",
        "new_string = my_string.replace(\"apple\", \"orange\")\n",
        "print(new_string)"
      ],
      "metadata": {
        "colab": {
          "base_uri": "https://localhost:8080/"
        },
        "id": "znkwLXtySwgh",
        "outputId": "9657aed1-ce49-44c0-e898-33fd21cca2e6"
      },
      "execution_count": 6,
      "outputs": [
        {
          "output_type": "stream",
          "name": "stdout",
          "text": [
            "I like orange\n"
          ]
        }
      ]
    },
    {
      "cell_type": "markdown",
      "source": [
        "6. Write a code to create a list with numbers 1 to 5 and print it."
      ],
      "metadata": {
        "id": "2UCDoALBS5tr"
      }
    },
    {
      "cell_type": "code",
      "source": [
        "numbers = [1, 2, 3, 4, 5]\n",
        "print(numbers)"
      ],
      "metadata": {
        "colab": {
          "base_uri": "https://localhost:8080/"
        },
        "id": "k8awbvhkS_DJ",
        "outputId": "9dfe0dec-5a3a-4501-8feb-55c6616b696e"
      },
      "execution_count": 7,
      "outputs": [
        {
          "output_type": "stream",
          "name": "stdout",
          "text": [
            "[1, 2, 3, 4, 5]\n"
          ]
        }
      ]
    },
    {
      "cell_type": "markdown",
      "source": [
        "7. Write a code to append the number 10 to the list [1, 2, 3, 4]."
      ],
      "metadata": {
        "id": "D82xWNlqTNKW"
      }
    },
    {
      "cell_type": "code",
      "source": [
        "numbers = [1, 2, 3, 4]\n",
        "numbers.append(10)  # Adds 10 to the end of the list\n",
        "print(numbers)"
      ],
      "metadata": {
        "colab": {
          "base_uri": "https://localhost:8080/"
        },
        "id": "PoxxssepTXVB",
        "outputId": "eb70e784-5c54-40ca-e021-ee159d59e453"
      },
      "execution_count": 8,
      "outputs": [
        {
          "output_type": "stream",
          "name": "stdout",
          "text": [
            "[1, 2, 3, 4, 10]\n"
          ]
        }
      ]
    },
    {
      "cell_type": "markdown",
      "source": [
        "8. Write a code to remove the number 3 from the list [1, 2, 3, 4, 5]."
      ],
      "metadata": {
        "id": "SjyYYyKmTi7o"
      }
    },
    {
      "cell_type": "code",
      "source": [
        "numbers = [1, 2, 3, 4, 5]\n",
        "numbers.remove(3)  # Removes the first occurrence of 3\n",
        "print(numbers)"
      ],
      "metadata": {
        "colab": {
          "base_uri": "https://localhost:8080/"
        },
        "id": "MmPq9vB7TosY",
        "outputId": "a2511f9c-c603-434a-e5fb-de6607f82ba2"
      },
      "execution_count": 9,
      "outputs": [
        {
          "output_type": "stream",
          "name": "stdout",
          "text": [
            "[1, 2, 4, 5]\n"
          ]
        }
      ]
    },
    {
      "cell_type": "markdown",
      "source": [
        "9. Write a code to access the second element in the list ['a', 'b', 'c', 'd']."
      ],
      "metadata": {
        "id": "j36nEnYTTuuD"
      }
    },
    {
      "cell_type": "code",
      "source": [
        "my_list = ['a', 'b', 'c', 'd']\n",
        "second_element = my_list[1]  # Index 1 refers to the second element\n",
        "print(second_element)"
      ],
      "metadata": {
        "colab": {
          "base_uri": "https://localhost:8080/"
        },
        "id": "mCDDFX5YT2PB",
        "outputId": "8c96d85a-a806-45d6-fa4f-9720c3d60c0a"
      },
      "execution_count": 10,
      "outputs": [
        {
          "output_type": "stream",
          "name": "stdout",
          "text": [
            "b\n"
          ]
        }
      ]
    },
    {
      "cell_type": "markdown",
      "source": [
        "10.  Write a code to reverse the list [10, 20, 30, 40, 50]."
      ],
      "metadata": {
        "id": "UHPBcvNGT8qM"
      }
    },
    {
      "cell_type": "code",
      "source": [
        "numbers = [10, 20, 30, 40, 50]\n",
        "numbers.reverse()  # Reverses the list in place\n",
        "print(numbers)"
      ],
      "metadata": {
        "colab": {
          "base_uri": "https://localhost:8080/"
        },
        "id": "qNQ8kkbpUBHB",
        "outputId": "e60db7b8-92d2-4219-e70d-38a995af1643"
      },
      "execution_count": 11,
      "outputs": [
        {
          "output_type": "stream",
          "name": "stdout",
          "text": [
            "[50, 40, 30, 20, 10]\n"
          ]
        }
      ]
    },
    {
      "cell_type": "markdown",
      "source": [
        "11. Write a code to create a tuple with the elements 100, 200, 300 and print it."
      ],
      "metadata": {
        "id": "pHO9DaTSUJz5"
      }
    },
    {
      "cell_type": "code",
      "source": [
        "my_tuple = (100, 200, 300)\n",
        "print(my_tuple)"
      ],
      "metadata": {
        "colab": {
          "base_uri": "https://localhost:8080/"
        },
        "id": "g7yIzEaiUPqA",
        "outputId": "495ea143-6227-4a68-cca7-26e1800718e5"
      },
      "execution_count": 12,
      "outputs": [
        {
          "output_type": "stream",
          "name": "stdout",
          "text": [
            "(100, 200, 300)\n"
          ]
        }
      ]
    },
    {
      "cell_type": "markdown",
      "source": [
        "12. Write a code to access the second-to-last element of the tuple ('red', 'green', 'blue', 'yellow')."
      ],
      "metadata": {
        "id": "r09jzAalUZHu"
      }
    },
    {
      "cell_type": "code",
      "source": [
        "colors = ('red', 'green', 'blue', 'yellow')\n",
        "second_last = colors[-2]  # -1 is 'yellow', so -2 is 'blue'\n",
        "print(second_last)"
      ],
      "metadata": {
        "colab": {
          "base_uri": "https://localhost:8080/"
        },
        "id": "qLPIaGRdUgKv",
        "outputId": "e8540237-9518-4dbe-d37a-5cfc87fa6158"
      },
      "execution_count": 13,
      "outputs": [
        {
          "output_type": "stream",
          "name": "stdout",
          "text": [
            "blue\n"
          ]
        }
      ]
    },
    {
      "cell_type": "markdown",
      "source": [
        "13. Write a code to find the minimum number in the tuple (10, 20, 5, 15)."
      ],
      "metadata": {
        "id": "82J8rv5lUqSJ"
      }
    },
    {
      "cell_type": "code",
      "source": [
        "numbers = (10, 20, 5, 15)\n",
        "min_number = min(numbers)  # Finds the smallest value\n",
        "print(min_number)"
      ],
      "metadata": {
        "colab": {
          "base_uri": "https://localhost:8080/"
        },
        "id": "ThYh7kSRUukY",
        "outputId": "9e81eff6-565c-4285-ab83-2da33e2b6c1c"
      },
      "execution_count": 14,
      "outputs": [
        {
          "output_type": "stream",
          "name": "stdout",
          "text": [
            "5\n"
          ]
        }
      ]
    },
    {
      "cell_type": "markdown",
      "source": [
        "14. Write a code to find the index of the element \"cat\" in the tuple ('dog', 'cat', 'rabbit')."
      ],
      "metadata": {
        "id": "nfRbwGInU0b8"
      }
    },
    {
      "cell_type": "code",
      "source": [
        "animals = ('dog', 'cat', 'rabbit')\n",
        "index_of_cat = animals.index('cat')  # Finds the index of 'cat'\n",
        "print(index_of_cat)"
      ],
      "metadata": {
        "colab": {
          "base_uri": "https://localhost:8080/"
        },
        "id": "KP6rr8UMU8XN",
        "outputId": "d58f934e-3c74-454d-8888-476dfe77a2fa"
      },
      "execution_count": 15,
      "outputs": [
        {
          "output_type": "stream",
          "name": "stdout",
          "text": [
            "1\n"
          ]
        }
      ]
    },
    {
      "cell_type": "markdown",
      "source": [
        "15.  Write a code to create a tuple containing three different fruits and check if \"kiwi\" is in it."
      ],
      "metadata": {
        "id": "wUOluWf4U_e0"
      }
    },
    {
      "cell_type": "code",
      "source": [
        "fruits = (\"apple\", \"banana\", \"mango\")  # Creating a tuple with three fruits\n",
        "if \"kiwi\" in fruits:\n",
        "    print(\"Kiwi is in the tuple\")\n",
        "else:\n",
        "    print(\"Kiwi is not in the tuple\")"
      ],
      "metadata": {
        "colab": {
          "base_uri": "https://localhost:8080/"
        },
        "id": "yOsI98m1VFDX",
        "outputId": "997fcff2-9fca-45fa-bfbd-8f29b69a3e61"
      },
      "execution_count": 16,
      "outputs": [
        {
          "output_type": "stream",
          "name": "stdout",
          "text": [
            "Kiwi is not in the tuple\n"
          ]
        }
      ]
    },
    {
      "cell_type": "markdown",
      "source": [
        "16. Write a code to create a set with the elements 'a', 'b', 'c' and print it."
      ],
      "metadata": {
        "id": "rv7m_HGcVMiA"
      }
    },
    {
      "cell_type": "code",
      "source": [
        "my_set = {'a', 'b', 'c'}\n",
        "print(my_set)"
      ],
      "metadata": {
        "colab": {
          "base_uri": "https://localhost:8080/"
        },
        "id": "MH8BbR-TVbBQ",
        "outputId": "da24b417-c230-4780-e33a-9f3e79e56a99"
      },
      "execution_count": 17,
      "outputs": [
        {
          "output_type": "stream",
          "name": "stdout",
          "text": [
            "{'c', 'b', 'a'}\n"
          ]
        }
      ]
    },
    {
      "cell_type": "markdown",
      "source": [
        "17. Write a code to clear all elements from the set {1, 2, 3, 4, 5}."
      ],
      "metadata": {
        "id": "JWkPykEyVpkb"
      }
    },
    {
      "cell_type": "code",
      "source": [
        "my_set = {1, 2, 3, 4, 5}\n",
        "my_set.clear()\n",
        "print(my_set)"
      ],
      "metadata": {
        "colab": {
          "base_uri": "https://localhost:8080/"
        },
        "id": "a8PyLp5JV1FH",
        "outputId": "ecd25548-4686-47ba-f29d-263d464e2cd9"
      },
      "execution_count": 18,
      "outputs": [
        {
          "output_type": "stream",
          "name": "stdout",
          "text": [
            "set()\n"
          ]
        }
      ]
    },
    {
      "cell_type": "markdown",
      "source": [
        "18. Write a code to remove the element 4 from the set {1, 2, 3, 4}."
      ],
      "metadata": {
        "id": "wPVwZmh9WLQ3"
      }
    },
    {
      "cell_type": "code",
      "source": [
        "my_set = {1, 2, 3, 4}\n",
        "my_set.remove(4)  # Removes 4 from the set\n",
        "print(my_set)"
      ],
      "metadata": {
        "colab": {
          "base_uri": "https://localhost:8080/"
        },
        "id": "FEx0zhcxWXqN",
        "outputId": "2f411e13-382f-4da4-a1ff-7ef596cf5f28"
      },
      "execution_count": 19,
      "outputs": [
        {
          "output_type": "stream",
          "name": "stdout",
          "text": [
            "{1, 2, 3}\n"
          ]
        }
      ]
    },
    {
      "cell_type": "markdown",
      "source": [
        "19.  Write a code to find the union of two sets {1, 2, 3} and {3, 4, 5}."
      ],
      "metadata": {
        "id": "FEetzet0Whp2"
      }
    },
    {
      "cell_type": "code",
      "source": [
        "set1 = {1, 2, 3}\n",
        "set2 = {3, 4, 5}\n",
        "union_set = set1 | set2  # Performs union operation\n",
        "print(union_set)"
      ],
      "metadata": {
        "colab": {
          "base_uri": "https://localhost:8080/"
        },
        "id": "yq9ElPr-Wni_",
        "outputId": "2f9cbb75-4348-4ad2-b053-bc77322cb196"
      },
      "execution_count": 20,
      "outputs": [
        {
          "output_type": "stream",
          "name": "stdout",
          "text": [
            "{1, 2, 3, 4, 5}\n"
          ]
        }
      ]
    },
    {
      "cell_type": "markdown",
      "source": [
        "20.  Write a code to find the intersection of two sets {1, 2, 3} and {2, 3, 4}."
      ],
      "metadata": {
        "id": "PA_Hkw58W655"
      }
    },
    {
      "cell_type": "code",
      "source": [
        "set1 = {1, 2, 3}\n",
        "set2 = {2, 3, 4}\n",
        "intersection_set = set1 & set2  # Finds common elements\n",
        "print(intersection_set)"
      ],
      "metadata": {
        "colab": {
          "base_uri": "https://localhost:8080/"
        },
        "id": "_NdisBQcXHyb",
        "outputId": "34e1989b-355d-4d96-a2b8-73cb4ccc5231"
      },
      "execution_count": 21,
      "outputs": [
        {
          "output_type": "stream",
          "name": "stdout",
          "text": [
            "{2, 3}\n"
          ]
        }
      ]
    },
    {
      "cell_type": "markdown",
      "source": [
        "21.  Write a code to create a dictionary with the keys \"name\", \"age\", and \"city\", and print it."
      ],
      "metadata": {
        "id": "zPBy5dyJXKuW"
      }
    },
    {
      "cell_type": "code",
      "source": [
        "person = {\n",
        "    \"name\": \"Alice\",\n",
        "    \"age\": 25,\n",
        "    \"city\": \"New York\"\n",
        "}\n",
        "print(person)"
      ],
      "metadata": {
        "colab": {
          "base_uri": "https://localhost:8080/"
        },
        "id": "ztOeS99xXSjt",
        "outputId": "94e6bfd0-5f00-4e80-d2df-ac0f02c783d3"
      },
      "execution_count": 22,
      "outputs": [
        {
          "output_type": "stream",
          "name": "stdout",
          "text": [
            "{'name': 'Alice', 'age': 25, 'city': 'New York'}\n"
          ]
        }
      ]
    },
    {
      "cell_type": "markdown",
      "source": [
        "22. Write a code to add a new key-value pair \"country\": \"USA\" to the dictionary {'name': 'John', 'age': 25}."
      ],
      "metadata": {
        "id": "fGZW7HdXXgQg"
      }
    },
    {
      "cell_type": "code",
      "source": [
        "person = {'name': 'John', 'age': 25}\n",
        "person.update({'country': 'USA'})  # Adding new key-value pair\n",
        "print(person)"
      ],
      "metadata": {
        "colab": {
          "base_uri": "https://localhost:8080/"
        },
        "id": "St231cC5Xldy",
        "outputId": "151d3ef7-539e-4794-ff22-48599a7008e4"
      },
      "execution_count": 23,
      "outputs": [
        {
          "output_type": "stream",
          "name": "stdout",
          "text": [
            "{'name': 'John', 'age': 25, 'country': 'USA'}\n"
          ]
        }
      ]
    },
    {
      "cell_type": "markdown",
      "source": [
        "23. Write a code to access the value associated with the key \"name\" in the dictionary {'name': 'Alice', 'age': 30}."
      ],
      "metadata": {
        "id": "SOad0qVMXz8o"
      }
    },
    {
      "cell_type": "code",
      "source": [
        "person = {'name': 'Alice', 'age': 30}\n",
        "print(person.get('name'))  # Accessing value of \"name\""
      ],
      "metadata": {
        "colab": {
          "base_uri": "https://localhost:8080/"
        },
        "id": "U3aGQwEgX3LY",
        "outputId": "de35e844-682b-4a9c-dafc-9ab07f7849a9"
      },
      "execution_count": 24,
      "outputs": [
        {
          "output_type": "stream",
          "name": "stdout",
          "text": [
            "Alice\n"
          ]
        }
      ]
    },
    {
      "cell_type": "markdown",
      "source": [
        "24. Write a code to remove the key \"age\" from the dictionary {'name': 'Bob', 'age': 22, 'city': 'New York'}."
      ],
      "metadata": {
        "id": "_814YBDnYC3D"
      }
    },
    {
      "cell_type": "code",
      "source": [
        "person = {'name': 'Bob', 'age': 22, 'city': 'New York'}\n",
        "removed_value = person.pop('age')  # Removes \"age\" and returns its value\n",
        "print(person)  # Dictionary after removal\n",
        "print(\"Removed value:\", removed_value)"
      ],
      "metadata": {
        "colab": {
          "base_uri": "https://localhost:8080/"
        },
        "id": "3joyNFGPYM9K",
        "outputId": "57afe63b-d5c1-415f-d6cc-45c5d59749e1"
      },
      "execution_count": 25,
      "outputs": [
        {
          "output_type": "stream",
          "name": "stdout",
          "text": [
            "{'name': 'Bob', 'city': 'New York'}\n",
            "Removed value: 22\n"
          ]
        }
      ]
    },
    {
      "cell_type": "markdown",
      "source": [
        "25. Write a code to check if the key \"city\" exists in the dictionary {'name': 'Alice', 'city': 'Paris'}."
      ],
      "metadata": {
        "id": "q3q0C-sqYX64"
      }
    },
    {
      "cell_type": "code",
      "source": [
        "person = {'name': 'Alice', 'city': 'Paris'}\n",
        "\n",
        "# Check if \"city\" key exists\n",
        "if 'city' in person:\n",
        "    print(\"The key 'city' exists in the dictionary.\")\n",
        "else:\n",
        "    print(\"The key 'city' does not exist in the dictionary.\")"
      ],
      "metadata": {
        "colab": {
          "base_uri": "https://localhost:8080/"
        },
        "id": "eOmyveqrYfzA",
        "outputId": "c2b1302a-b2f1-4b11-8b4e-8fe639985142"
      },
      "execution_count": 26,
      "outputs": [
        {
          "output_type": "stream",
          "name": "stdout",
          "text": [
            "The key 'city' exists in the dictionary.\n"
          ]
        }
      ]
    },
    {
      "cell_type": "markdown",
      "source": [
        "26. Write a code to create a list, a tuple, and a dictionary, and print them all."
      ],
      "metadata": {
        "id": "aB7XnMEjYtaK"
      }
    },
    {
      "cell_type": "code",
      "source": [
        "my_list = [1, 2, 3, 4, 5]\n",
        "\n",
        "my_tuple = ('apple', 'banana', 'cherry')\n",
        "\n",
        "my_dict = {'name': 'Alice', 'age': 25, 'city': 'New York'}\n",
        "\n",
        "print(\"List:\", my_list)\n",
        "print(\"Tuple:\", my_tuple)\n",
        "print(\"Dictionary:\", my_dict)\n"
      ],
      "metadata": {
        "colab": {
          "base_uri": "https://localhost:8080/"
        },
        "id": "OXi6LuJjY1tV",
        "outputId": "f6e22a8c-9e93-453b-d357-85cc34af52d1"
      },
      "execution_count": 27,
      "outputs": [
        {
          "output_type": "stream",
          "name": "stdout",
          "text": [
            "List: [1, 2, 3, 4, 5]\n",
            "Tuple: ('apple', 'banana', 'cherry')\n",
            "Dictionary: {'name': 'Alice', 'age': 25, 'city': 'New York'}\n"
          ]
        }
      ]
    },
    {
      "cell_type": "markdown",
      "source": [
        "27.  Write a code to create a list of 5 random numbers between 1 and 100, sort it in ascending order, and print the\n",
        "result.(replaced)"
      ],
      "metadata": {
        "id": "uXHyXnPkZC29"
      }
    },
    {
      "cell_type": "code",
      "source": [
        "import random\n",
        "\n",
        "random_numbers = random.sample(range(1, 101), 5)\n",
        "\n",
        "random_numbers.sort()\n",
        "\n",
        "print(\"Sorted Random Numbers:\", random_numbers)"
      ],
      "metadata": {
        "colab": {
          "base_uri": "https://localhost:8080/"
        },
        "id": "huqlFCWbZIPH",
        "outputId": "f05a3fc1-c343-482e-f7cc-9b64e5045835"
      },
      "execution_count": 28,
      "outputs": [
        {
          "output_type": "stream",
          "name": "stdout",
          "text": [
            "Sorted Random Numbers: [50, 51, 53, 65, 78]\n"
          ]
        }
      ]
    },
    {
      "cell_type": "markdown",
      "source": [
        "28. Write a code to create a list with strings and print the element at the third index."
      ],
      "metadata": {
        "id": "TxH2PTOoZbQo"
      }
    },
    {
      "cell_type": "code",
      "source": [
        "\n",
        "my_list = [\"apple\", \"banana\", \"cherry\", \"orange\", \"grape\"]\n",
        "\n",
        "third_index_element = my_list[3]\n",
        "\n",
        "print(\"Element at index 3:\", third_index_element)"
      ],
      "metadata": {
        "colab": {
          "base_uri": "https://localhost:8080/"
        },
        "id": "cBzpvQceZhTq",
        "outputId": "89bf996a-4bcf-46d7-ae9b-7907964fdf70"
      },
      "execution_count": 29,
      "outputs": [
        {
          "output_type": "stream",
          "name": "stdout",
          "text": [
            "Element at index 3: orange\n"
          ]
        }
      ]
    },
    {
      "cell_type": "markdown",
      "source": [
        "29. Write a code to combine two dictionaries into one and print the result."
      ],
      "metadata": {
        "id": "PS07lm3eZryg"
      }
    },
    {
      "cell_type": "code",
      "source": [
        "dict1 = {'a': 1, 'b': 2}\n",
        "dict2 = {'c': 3, 'd': 4}\n",
        "\n",
        "# Merging dict2 into dict1\n",
        "dict1.update(dict2)\n",
        "\n",
        "print(\"Combined Dictionary:\", dict1)"
      ],
      "metadata": {
        "colab": {
          "base_uri": "https://localhost:8080/"
        },
        "id": "KBm0-WlVZxlJ",
        "outputId": "43609369-2363-417f-f3fa-a7fe24436acd"
      },
      "execution_count": 30,
      "outputs": [
        {
          "output_type": "stream",
          "name": "stdout",
          "text": [
            "Combined Dictionary: {'a': 1, 'b': 2, 'c': 3, 'd': 4}\n"
          ]
        }
      ]
    },
    {
      "cell_type": "markdown",
      "source": [
        "30. Write a code to convert a list of strings into a set."
      ],
      "metadata": {
        "id": "f936kYOVZ8Mz"
      }
    },
    {
      "cell_type": "code",
      "source": [
        "my_list = [\"apple\", \"banana\", \"cherry\", \"apple\", \"banana\"]\n",
        "\n",
        "my_set = set(my_list)\n",
        "\n",
        "print(\"Converted Set:\", my_set)"
      ],
      "metadata": {
        "colab": {
          "base_uri": "https://localhost:8080/"
        },
        "id": "YGdRMBwfaBr2",
        "outputId": "1cd5eaff-8b4f-496b-b3c4-5394b434cb0b"
      },
      "execution_count": 31,
      "outputs": [
        {
          "output_type": "stream",
          "name": "stdout",
          "text": [
            "Converted Set: {'apple', 'cherry', 'banana'}\n"
          ]
        }
      ]
    }
  ]
}